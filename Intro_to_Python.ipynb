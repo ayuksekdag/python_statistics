{
  "nbformat": 4,
  "nbformat_minor": 0,
  "metadata": {
    "kernelspec": {
      "display_name": "Python 3",
      "language": "python",
      "name": "python3"
    },
    "language_info": {
      "codemirror_mode": {
        "name": "ipython",
        "version": 3
      },
      "file_extension": ".py",
      "mimetype": "text/x-python",
      "name": "python",
      "nbconvert_exporter": "python",
      "pygments_lexer": "ipython3",
      "version": "3.8.3"
    },
    "colab": {
      "name": "Intro to Python.ipynb",
      "provenance": [],
      "include_colab_link": true
    }
  },
  "cells": [
    {
      "cell_type": "markdown",
      "metadata": {
        "id": "view-in-github",
        "colab_type": "text"
      },
      "source": [
        "<a href=\"https://colab.research.google.com/github/ayuksekdag/python_statistics/blob/main/Intro_to_Python.ipynb\" target=\"_parent\"><img src=\"https://colab.research.google.com/assets/colab-badge.svg\" alt=\"Open In Colab\"/></a>"
      ]
    },
    {
      "cell_type": "markdown",
      "metadata": {
        "id": "8gUSU4D0d_sB"
      },
      "source": [
        "# Hello World"
      ]
    },
    {
      "cell_type": "markdown",
      "metadata": {
        "id": "9YtRjfoOd_sI"
      },
      "source": [
        "They say no one is a programmer untill they output their first \"Hello world\""
      ]
    },
    {
      "cell_type": "markdown",
      "metadata": {
        "id": "j1o1ZtjThYQE"
      },
      "source": [
        "## Printing values\n",
        "\n",
        "Python uses the <tt>print</tt> statement. This command lets us print messages to the user, and also to see what Python thinks is the value of some expression (very useful when debugging your programs).\n",
        "\n",
        "We will go into details later on, but for now just note that to print some text you have to enclose it in  \"quotation marks\". \n"
      ]
    },
    {
      "cell_type": "code",
      "metadata": {
        "colab": {
          "base_uri": "https://localhost:8080/"
        },
        "id": "bsQQW5uchYQQ",
        "outputId": "5edf1cb6-8ab2-44e4-c625-7bcb6eccc926"
      },
      "source": [
        "print(\"Hello world!\")"
      ],
      "execution_count": null,
      "outputs": [
        {
          "output_type": "stream",
          "text": [
            "Hello world!\n"
          ],
          "name": "stdout"
        }
      ]
    },
    {
      "cell_type": "code",
      "metadata": {
        "id": "dlmNujFBhYQX",
        "outputId": "830ee3a9-a617-4920-b41d-9e7cae1532c7"
      },
      "source": [
        "print(\"Hello RAIN\")"
      ],
      "execution_count": null,
      "outputs": [
        {
          "output_type": "stream",
          "text": [
            "Hello RAIN\n"
          ],
          "name": "stdout"
        }
      ]
    },
    {
      "cell_type": "code",
      "metadata": {
        "id": "S4zONKi5hYQY",
        "outputId": "6ade224d-7179-4356-fdf9-70f7e3186c2e"
      },
      "source": [
        "print(34)"
      ],
      "execution_count": null,
      "outputs": [
        {
          "output_type": "stream",
          "text": [
            "34\n"
          ],
          "name": "stdout"
        }
      ]
    },
    {
      "cell_type": "code",
      "metadata": {
        "id": "bkLUv3uOhYQY",
        "outputId": "7fb7a3fc-ceaa-4e58-b379-7ea280bbd8a1"
      },
      "source": [
        "print(2 + 3)"
      ],
      "execution_count": null,
      "outputs": [
        {
          "output_type": "stream",
          "text": [
            "5\n"
          ],
          "name": "stdout"
        }
      ]
    },
    {
      "cell_type": "code",
      "metadata": {
        "id": "22syYI7Ud_sL",
        "outputId": "7cae1149-dd3e-4e85-cd6e-31de6047a68c"
      },
      "source": [
        "print(7 -4)"
      ],
      "execution_count": null,
      "outputs": [
        {
          "output_type": "stream",
          "text": [
            "3\n"
          ],
          "name": "stdout"
        }
      ]
    },
    {
      "cell_type": "markdown",
      "metadata": {
        "id": "m7sobOV-hYQZ"
      },
      "source": [
        "You can print  multiple expressions you need to seperate them with commas. Python will insert a space between each element, and a newline at the end of the message (though you can suppress this behaviour by leaving a trailing comma at the end of the command)."
      ]
    },
    {
      "cell_type": "markdown",
      "metadata": {
        "id": "V5-tBzC6hYQa"
      },
      "source": [
        "## Using variables"
      ]
    },
    {
      "cell_type": "markdown",
      "metadata": {
        "id": "6Dv92OzmhYQb"
      },
      "source": [
        "In the <tt>print</tt> commands above we have directly operated on values such as text strings and numbers. When programming we will typically want to deal with rather more complex expressions where it is useful to be able to assign a name to an expression, especially if we are trying to deal with multiple values at the same time.\n",
        "\n",
        "We can give a name to a value using _variables_, the name is apt because the values stored in a variable can _vary_. Unlike some other languages, the type of value assigned to a variable can also change (this is one of the reasons why python is known as a _dynamic_ language).\n",
        "\n",
        "A variable can be assigned to a simple value..."
      ]
    },
    {
      "cell_type": "code",
      "metadata": {
        "id": "aqZQ8OJDhYQc",
        "outputId": "6b5b0676-2c81-406c-8e01-3fe42675378f"
      },
      "source": [
        "x = 7\n",
        "print(x)"
      ],
      "execution_count": null,
      "outputs": [
        {
          "output_type": "stream",
          "text": [
            "7\n"
          ],
          "name": "stdout"
        }
      ]
    },
    {
      "cell_type": "markdown",
      "metadata": {
        "id": "9gnSNiVvhYQe"
      },
      "source": [
        "... or the outcome of a more complex expression."
      ]
    },
    {
      "cell_type": "code",
      "metadata": {
        "id": "XG-CGQ7hhYQe",
        "outputId": "ef486f9e-7f39-4fbe-a09f-882361bce2ea"
      },
      "source": [
        "x = 2 + 2\n",
        "print(x)"
      ],
      "execution_count": null,
      "outputs": [
        {
          "output_type": "stream",
          "text": [
            "4\n"
          ],
          "name": "stdout"
        }
      ]
    },
    {
      "cell_type": "markdown",
      "metadata": {
        "id": "_D2BohJHhYQf"
      },
      "source": [
        "A variable can be called whatever you like (as long as it starts with a character, it does not contain space and is meaningful) and you assign a value to a variable with the **`=` operator**. Note that this is different to mathematical equality (which we will come to later...)\n",
        "\n",
        "You can <tt>print</tt> a variable to see what python thinks its current value is."
      ]
    },
    {
      "cell_type": "code",
      "metadata": {
        "id": "YAIBVhx8hYQg",
        "outputId": "a6c88066-fbdb-4885-add8-0115517ea9ed"
      },
      "source": [
        "name = \"Iron man\"\n",
        "print(name, \"is his name\")"
      ],
      "execution_count": null,
      "outputs": [
        {
          "output_type": "stream",
          "text": [
            "Iron man is his name\n"
          ],
          "name": "stdout"
        }
      ]
    },
    {
      "cell_type": "markdown",
      "metadata": {
        "id": "IdnGUo1uhYQg"
      },
      "source": [
        "In the interactive interpreter you don't have to <tt>print</tt> everything, if you type a variable name (or just a value), the interpreter will automatically print out what python thinks the value is. Note though that this is not the case if your code is in a file."
      ]
    },
    {
      "cell_type": "code",
      "metadata": {
        "id": "AoyfqvUwhYQh",
        "outputId": "1099a408-e322-4f57-e9e2-c7155765d0c3"
      },
      "source": [
        "3 + 4"
      ],
      "execution_count": null,
      "outputs": [
        {
          "output_type": "execute_result",
          "data": {
            "text/plain": [
              "7"
            ]
          },
          "metadata": {
            "tags": []
          },
          "execution_count": 55
        }
      ]
    },
    {
      "cell_type": "code",
      "metadata": {
        "id": "LqNe5YN2hYQj",
        "outputId": "89172506-04ba-4e62-a135-a77ff8a9a546"
      },
      "source": [
        "x = 9\n",
        "3 * x"
      ],
      "execution_count": null,
      "outputs": [
        {
          "output_type": "execute_result",
          "data": {
            "text/plain": [
              "27"
            ]
          },
          "metadata": {
            "tags": []
          },
          "execution_count": 57
        }
      ]
    },
    {
      "cell_type": "markdown",
      "metadata": {
        "id": "HWlWtgW9hYQr"
      },
      "source": [
        "## Simple data types"
      ]
    },
    {
      "cell_type": "markdown",
      "metadata": {
        "id": "JdHyAOnkhYQs"
      },
      "source": [
        "Python (and computers in general) treats different types of data differently. Python has 5 main basic data types. Types are useful to constrain some operations to a certain category of variables. For example it doesn't really make sense to try to divide a string.\n",
        "\n",
        "We will see some examples of these in use shortly, but for now let's see all of the basic types available in python.\n",
        "\n",
        "### Booleans\n",
        "\n",
        "Boolean values represent truth or falsehood, as used in logical operations, for example. Not surprisingly, there are only two values, and in Python they are called <tt>True</tt> and <tt>False</tt>."
      ]
    },
    {
      "cell_type": "code",
      "metadata": {
        "id": "6YupJkr2hYQs",
        "outputId": "ca16239d-3c76-4ee1-faee-a14cc8b5be58"
      },
      "source": [
        "a = True\n",
        "b = False\n",
        "print(a, b)\n",
        "\n",
        "x = 10 < 5\n",
        "print(x)"
      ],
      "execution_count": null,
      "outputs": [
        {
          "output_type": "stream",
          "text": [
            "True False\n",
            "False\n"
          ],
          "name": "stdout"
        }
      ]
    },
    {
      "cell_type": "markdown",
      "metadata": {
        "id": "kQVkC3vRhYQt"
      },
      "source": [
        "### Integers\n",
        "\n",
        "Integers represent whole numbers, as you would use when counting items, and can be positive or negative."
      ]
    },
    {
      "cell_type": "code",
      "metadata": {
        "id": "N0WA_j8uhYQt",
        "outputId": "e7cb90f8-1875-441e-cb9b-43d3c19e6340"
      },
      "source": [
        "i = -7\n",
        "j = 123\n",
        "print(i, j)"
      ],
      "execution_count": null,
      "outputs": [
        {
          "output_type": "stream",
          "text": [
            "-7 123\n"
          ],
          "name": "stdout"
        }
      ]
    },
    {
      "cell_type": "markdown",
      "metadata": {
        "id": "Y8pAW98ahYQu"
      },
      "source": [
        "### Floating point numbers\n",
        "\n",
        "Floating point numbers, often simply referred to as <tt>float</tt>s, are numbers expressed in the decimal system, i.e. 2.1, 999.998, -0.000004 etc. The value 2.0 would also be interpreted as a floating point number, but the value 2, without the decimal point will not; it will be interpreted as an integer."
      ]
    },
    {
      "cell_type": "code",
      "metadata": {
        "id": "BQ5KJFPEhYQu",
        "outputId": "4f8c4117-fad0-4eb9-ecad-942ed1c534be"
      },
      "source": [
        "x = 3.14159\n",
        "y = -42.3\n",
        "print(x * y)"
      ],
      "execution_count": null,
      "outputs": [
        {
          "output_type": "stream",
          "text": [
            "-132.889257\n"
          ],
          "name": "stdout"
        }
      ]
    },
    {
      "cell_type": "markdown",
      "metadata": {
        "id": "8VYj8uYbhYQv"
      },
      "source": [
        "Floating point numbers can also carry an <tt>e</tt> suffix that states which power of ten they operate at."
      ]
    },
    {
      "cell_type": "code",
      "metadata": {
        "id": "f-oE4Yx5hYQv",
        "outputId": "2bf18dfa-7efc-45d7-819e-04ada9458db0"
      },
      "source": [
        "k = 1.5e3\n",
        "l = 3e-2\n",
        "print(k)\n",
        "print(l)"
      ],
      "execution_count": null,
      "outputs": [
        {
          "output_type": "stream",
          "text": [
            "1500.0\n",
            "0.03\n"
          ],
          "name": "stdout"
        }
      ]
    },
    {
      "cell_type": "markdown",
      "metadata": {
        "id": "TZ8jD8L_hYQy"
      },
      "source": [
        "### Strings\n",
        "\n",
        "Strings represent text, i.e. \"strings\" of characters. They can be delimited by single quotes <tt>‘</tt> or double quotes <tt>“</tt>, but you have to use the same delimiter at both ends. Unlike some programming languages, such as Perl, there is no difference between the two types of quote, although using one type does allow the other type to appear inside the string as a regular character.\n",
        "\n",
        "Normally a python statement ends at the end of the line, but if you want to type a string over several lines you can enclose it in triple quotation marks."
      ]
    },
    {
      "cell_type": "code",
      "metadata": {
        "id": "KksqvYVLhYQ0",
        "outputId": "866358eb-ace5-4d31-c85e-1dfaed48cdd3"
      },
      "source": [
        "s = \"String with double quotes\"\n",
        "t = 'String with single quotes'\n",
        "u = \"It's a string with apostrophes\"\n",
        "\"\"\"A string that extends\n",
        "over multiple lines\"\"\"\n",
        "print(s)"
      ],
      "execution_count": null,
      "outputs": [
        {
          "output_type": "stream",
          "text": [
            "String with double quotes\n"
          ],
          "name": "stdout"
        }
      ]
    },
    {
      "cell_type": "markdown",
      "metadata": {
        "collapsed": true,
        "id": "d3o5PTfFd_sQ"
      },
      "source": [
        "# Conditionals \n"
      ]
    },
    {
      "cell_type": "markdown",
      "metadata": {
        "id": "2IR-Fe3ud_sQ"
      },
      "source": [
        "## Program control and logic"
      ]
    },
    {
      "cell_type": "markdown",
      "metadata": {
        "id": "sUCDqFdbd_sQ"
      },
      "source": [
        "A program will normally run by executing the stated commands, one after the other in sequential order. Frequently however, you will need the program to deviate from this. There are several ways of diverting from the line-by-line paradigm:\n",
        "\n",
        "- With conditional statements. Here you can check if some statement or expression is true, and if it is then you continue on with the following block of code, otherwise you might skip it or execute a different bit of code.\n",
        "\n",
        "- By performing repetitive loops through the same block of code, where each time through the loop different values may be used for the variables.\n",
        "\n",
        "- Through the use of functions (subroutines) where the program’s execution jumps from a particular line of code to an entirely different spot, even in a different file or module, to do a task before (usually) jumping back again. Functions are covered in the next session, so we will not discuss them yet.\n",
        "\n",
        "- By checking if an error or exception occurs, i.e. something illegal has happened, and executing different blocks of code accordingly"
      ]
    },
    {
      "cell_type": "markdown",
      "metadata": {
        "id": "LMWWf36_d_sR"
      },
      "source": [
        "## Code blocks"
      ]
    },
    {
      "cell_type": "markdown",
      "metadata": {
        "id": "ZxGHRFaZd_sR"
      },
      "source": [
        "With all of the means by which Python code execution can jump about we naturally need to be aware of the boundaries of the block of code we jump into, so that it is clear at what point the job is done, and program execution can jump back again. In essence it is required that the end of a function, loop or conditional statement be defined, so that we know the bounds of their respective code blocks."
      ]
    },
    {
      "cell_type": "markdown",
      "metadata": {
        "id": "VLzeW3J_d_sR"
      },
      "source": [
        "Python uses indentation to show which statements are in a block of code, other languages use specific `begin` and `end` statements or curly braces `{}`. It doesn't matter how much indentation you use, but the whole block must be consistent, i.e., if the first statement is indented by four spaces, the rest of the block must be indented by the same amount. The Python style guide recommends using 4-space indentation. Use spaces, rather than tabs, since different editors display tab characters with different widths.\n",
        "\n",
        "The use of indentation to delineate code blocks is illustrated in an abstract manner in the following scheme: \n",
        "\n",
        "Statement 1:\n",
        "\n",
        "    Command A – in the block of statement 1\n",
        "    Command B – in the block of statement 1\n",
        "  \n",
        "    Statement 2:\n",
        "        Command C – in the block of statement 2\n",
        "        Command D – in the block of statement 2\n",
        "  \n",
        "    Command E – back in the block of statement 1\n",
        "\n",
        "Command F – outside all statement blocks\n"
      ]
    },
    {
      "cell_type": "markdown",
      "metadata": {
        "id": "4dRCK_Uud_sS"
      },
      "source": [
        "## Conditional execution"
      ]
    },
    {
      "cell_type": "markdown",
      "metadata": {
        "id": "dVb33bkwd_sS"
      },
      "source": [
        "### The <tt>if</tt> statement"
      ]
    },
    {
      "cell_type": "markdown",
      "metadata": {
        "id": "wy74OQVAd_sS"
      },
      "source": [
        "A conditional <tt>if</tt> statement is used to specify that some block of code should only be executed if some associated test is upheld; a conditional expression evaluates to <tt>True</tt>. This might also involve subsidiary checks using the <tt>elif</tt> statement to use an alternative block if the previous expression turns out to be False. There can even be a final <tt>else</tt> statement to do something if none of the checks are passed. \n",
        "\n",
        "The following uses statements that test whether a number is less than zero, greater than zero or otherwise equal to zero and will print out a different message in each case:"
      ]
    },
    {
      "cell_type": "code",
      "metadata": {
        "id": "l1xGPSv8d_sS",
        "outputId": "13437f87-96bb-4884-8450-4a85281fa4a5"
      },
      "source": [
        "x = 5\n",
        "\n",
        "if x > 0:\n",
        "    print(\"Value is positive\")\n",
        "\n",
        "elif x < 0:\n",
        "    print(\"Value is negative\")\n",
        "\n",
        "else:\n",
        "    print(\"Value is zero\")"
      ],
      "execution_count": null,
      "outputs": [
        {
          "output_type": "stream",
          "text": [
            "Value is positive\n"
          ],
          "name": "stdout"
        }
      ]
    },
    {
      "cell_type": "markdown",
      "metadata": {
        "id": "jvOMIuuEd_sS"
      },
      "source": [
        "The general form of writing out such combined conditional statements is as follows:"
      ]
    },
    {
      "cell_type": "markdown",
      "metadata": {
        "id": "jGxPRIqyd_sT"
      },
      "source": [
        "<pre>\n",
        "if conditionalExpression1:\n",
        "    # codeBlock1\n",
        "\n",
        "elif conditionalExpression2:\n",
        "    # codeBlock2\n",
        "\n",
        "elif conditionalExpressionN:\n",
        "    # codeBlockN\n",
        "    +any number of additional elif statements, then finally:\n",
        "\n",
        "else:\n",
        "    # codeBlockE\n",
        "</pre>"
      ]
    },
    {
      "cell_type": "markdown",
      "metadata": {
        "id": "zzu_09Usd_sT"
      },
      "source": [
        "\n",
        "The <tt>elif</tt> block is optional, and we can use as many as we like. The <tt>else</tt> block is also optional, so will only have the <tt>if</tt> statement, which is a fairly common situation. It is often good practice to include <tt>else</tt> where possible though, so that you always catch cases that do not pass, otherwise values might go unnoticed, which might not be the desired behaviour."
      ]
    },
    {
      "cell_type": "markdown",
      "metadata": {
        "id": "MNbXLuP0d_sT"
      },
      "source": [
        "Placeholders are needed for “empty” code blocks:"
      ]
    },
    {
      "cell_type": "code",
      "metadata": {
        "id": "afkzrgohd_sT",
        "outputId": "3dfa8431-6f6f-45db-e5d3-00a2dcb6591a"
      },
      "source": [
        "name = \"luttapi\"\n",
        "mark = 30\n",
        "\n",
        "if mark < 45:\n",
        "    print(name, \"has failed in the exam\")\n",
        "        \n",
        "elif geneExpression > 0:\n",
        "    print(name, \"has passed in the exam\")\n",
        "        \n",
        "else:\n",
        "    pass"
      ],
      "execution_count": null,
      "outputs": [
        {
          "output_type": "stream",
          "text": [
            "luttapi has failed in the exam\n"
          ],
          "name": "stdout"
        }
      ]
    },
    {
      "cell_type": "markdown",
      "metadata": {
        "id": "0WUmhyw_d_sT"
      },
      "source": [
        "For very simple conditional checks, you can write the `if` statement on a single line as a single expression, and the result will be the expression before the `if` if the condition is true or the expression after the `else` otherwise.\n",
        "\n"
      ]
    },
    {
      "cell_type": "code",
      "metadata": {
        "id": "dGTdw1qed_sT",
        "outputId": "203062a6-66e5-49f6-eecf-17627cc4348a"
      },
      "source": [
        "x = 15\n",
        "\n",
        "# if x < 10:\n",
        "#     s = \"Yes\"\n",
        "# else:\n",
        "#     s = \"No\"\n",
        "# print(s)\n",
        "\n",
        "# Could also be written onto one line\n",
        "s = \"Yes\" if x < 10 else \"No\"\n",
        "print(s)"
      ],
      "execution_count": null,
      "outputs": [
        {
          "output_type": "stream",
          "text": [
            "No\n"
          ],
          "name": "stdout"
        }
      ]
    },
    {
      "cell_type": "markdown",
      "metadata": {
        "id": "SiGPeNx8d_sU"
      },
      "source": [
        "### Comparisons and truth"
      ]
    },
    {
      "cell_type": "markdown",
      "metadata": {
        "id": "7DxQoGrWd_sU"
      },
      "source": [
        "With conditional execution the question naturally arises as to which expressions are deemed to be true and which false. For the python boolean values <tt>True</tt> and <tt>False</tt> the answer is (hopefully) obvious. Also, the logical states of truth and falsehood that result from conditional checks like “Is x greater than 5?” or “Is y in this list?” are also clear. When comparing values Python has the standard comparison (or relational) operators, some of which we have already seen:\n",
        "\n",
        "|Operator |\tDescription |\tExample |\n",
        "|---------|-------------|-----------|\n",
        "|`==`  |\t    equality |\t1 == 2 # False |\n",
        "|`!=`  |\t    non equality |\t1 != 2 # True |\n",
        "| `<`  |\t    less than |\t1 < 2 # True |\n",
        "| `<=` |\t    equal or less than |\t2 <= 2 # True |\n",
        "| `>`  |\t    greater then |\t1 > 2 # False |\n",
        "| `>=` |\t    equal or greater than |\t1 >= 1 # True |\n",
        "\n",
        "It is notable that comparison operations can be combined, for example to check if a value is within a range."
      ]
    },
    {
      "cell_type": "code",
      "metadata": {
        "id": "_qHp0CkTd_sU",
        "outputId": "0720e903-9ff6-4ae4-839b-6096ae848918"
      },
      "source": [
        "4 != 5"
      ],
      "execution_count": null,
      "outputs": [
        {
          "output_type": "execute_result",
          "data": {
            "text/plain": [
              "True"
            ]
          },
          "metadata": {
            "tags": []
          },
          "execution_count": 74
        }
      ]
    },
    {
      "cell_type": "code",
      "metadata": {
        "id": "aMqdUEhMd_sU",
        "outputId": "703e0a78-9123-4313-e513-faf2236d8ca3"
      },
      "source": [
        "x = 50\n",
        "\n",
        "#if x > 0 and x < 10:\n",
        "if 0 < x < 10: #is also possible\n",
        "    print(\"In range A\")\n",
        "else:\n",
        "    print(\"Not in range\")\n",
        "    \n",
        "#elif x < 0 or x > 10:\n",
        "#    print(\"In range B\")"
      ],
      "execution_count": null,
      "outputs": [
        {
          "output_type": "stream",
          "text": [
            "Not in range\n"
          ],
          "name": "stdout"
        }
      ]
    },
    {
      "cell_type": "markdown",
      "metadata": {
        "id": "rXj4Jj0Rd_sV"
      },
      "source": [
        "Python has two additional comparison operators <tt>is</tt> and <tt>is not</tt>. These compare whether two objects are the same object, whereas <tt>==</tt> and <tt>!=</tt> compare whether values are the same.\n",
        "\n",
        "As an example in Python:"
      ]
    },
    {
      "cell_type": "markdown",
      "metadata": {
        "id": "_Ke0Z8EQd_sV"
      },
      "source": [
        "## Loops"
      ]
    },
    {
      "cell_type": "markdown",
      "metadata": {
        "id": "7CxTkRp5d_sV"
      },
      "source": [
        "When an operation needs to be repeated multiple times, for example on all of the items in a list, we \n",
        "avoid having to type (or copy and paste) repetitive code by creating a loop. There are two ways of creating loops in Python, the <tt>for</tt> loop and the <tt>while</tt> loop."
      ]
    },
    {
      "cell_type": "markdown",
      "metadata": {
        "id": "8JoqQUU5d_sV"
      },
      "source": [
        "## The <tt>for</tt> loop"
      ]
    },
    {
      "cell_type": "markdown",
      "metadata": {
        "id": "FNsF0FFgd_sV"
      },
      "source": [
        "The for loop in Python iterates over each item in a sequence (such as a list or tuple) in the order that they appear in the sequence. What this means is that a variable (<tt>code</tt> in the below example) is set to each item from the sequence of values in turn, and each time this happens the indented block of code is executed again."
      ]
    },
    {
      "cell_type": "code",
      "metadata": {
        "id": "o1bM3lMJd_sV",
        "outputId": "818a9757-28b2-4122-f587-b8e19ef0b58f"
      },
      "source": [
        "numbers = [1, 2, 3, 4, 5, 6, 7, 8, 9, 10]\n",
        "\n",
        "for x in numbers:\n",
        "    print(x)\n",
        "    #print(number, end = '-')"
      ],
      "execution_count": null,
      "outputs": [
        {
          "output_type": "stream",
          "text": [
            "1\n",
            "2\n",
            "3\n",
            "4\n",
            "5\n",
            "6\n",
            "7\n",
            "8\n",
            "9\n",
            "10\n"
          ],
          "name": "stdout"
        }
      ]
    },
    {
      "cell_type": "markdown",
      "metadata": {
        "id": "vl9u3nALd_sW"
      },
      "source": [
        "A <tt>for</tt> loop can iterate over the individual characters in a string:"
      ]
    },
    {
      "cell_type": "code",
      "metadata": {
        "id": "HG8v_9gYd_sW",
        "outputId": "a0d1aff3-14bf-467e-a9fd-7da1a824eb1c"
      },
      "source": [
        "name = 'Kochi'\n",
        "\n",
        "for character in name:\n",
        "    print(character)"
      ],
      "execution_count": null,
      "outputs": [
        {
          "output_type": "stream",
          "text": [
            "K\n",
            "o\n",
            "c\n",
            "h\n",
            "i\n"
          ],
          "name": "stdout"
        }
      ]
    },
    {
      "cell_type": "markdown",
      "metadata": {
        "id": "Nf_fsBoQd_sW"
      },
      "source": [
        "And also over the keys of a dictionary: "
      ]
    },
    {
      "cell_type": "code",
      "metadata": {
        "id": "hVUV02egd_sW",
        "outputId": "67441c59-a946-4534-e707-70e9446fb7ff"
      },
      "source": [
        "sports = {\"A\": \"Cricket\", \"B\": \"Football\", \"C\": \"Hockey\", \"D\": \"Badminton\", \"E\": \"Kabaddi\"}\n",
        "\n",
        "for x in sports:\n",
        "    print(x, sports[x])"
      ],
      "execution_count": null,
      "outputs": [
        {
          "output_type": "stream",
          "text": [
            "A Cricket\n",
            "B Football\n",
            "C Hockey\n",
            "D Badminton\n",
            "E Kabaddi\n"
          ],
          "name": "stdout"
        }
      ]
    },
    {
      "cell_type": "markdown",
      "metadata": {
        "id": "aAtkhyQWd_sW"
      },
      "source": [
        "Any variables that are defined before the loop can be accessed from inside the loop. So for example to calculate the summation of the items in a list of values we could define the total initially to be zero and add each value to the total in the loop:"
      ]
    },
    {
      "cell_type": "code",
      "metadata": {
        "id": "JJfswGBEd_sW",
        "outputId": "c27a1e8f-9e83-42c3-bd03-3c9afa5efa00"
      },
      "source": [
        "total = 0\n",
        "values = [1, 2, 4, 8, 16]\n",
        "\n",
        "for v in values:\n",
        "    #total = total + v\n",
        "    total += v\n",
        "    print(total)\n",
        "\n",
        "#print(total)"
      ],
      "execution_count": null,
      "outputs": [
        {
          "output_type": "stream",
          "text": [
            "1\n",
            "3\n",
            "7\n",
            "15\n",
            "31\n"
          ],
          "name": "stdout"
        }
      ]
    },
    {
      "cell_type": "code",
      "metadata": {
        "id": "Em0xWfDKhYQa",
        "outputId": "f253d89b-2599-4f79-c33f-535c4b15839a"
      },
      "source": [
        "print(\"The answer:\", 10)"
      ],
      "execution_count": null,
      "outputs": [
        {
          "output_type": "stream",
          "text": [
            "The answer: 10\n"
          ],
          "name": "stdout"
        }
      ]
    },
    {
      "cell_type": "markdown",
      "metadata": {
        "id": "kWgr6MwDd_sX"
      },
      "source": [
        "## The <tt>while</tt> loop"
      ]
    },
    {
      "cell_type": "markdown",
      "metadata": {
        "id": "xC_r-a29d_sX"
      },
      "source": [
        "In addition to the <tt>for</tt> loop that operates on a collection of items, there is a <tt>while</tt> loop that simply repeats while some statement evaluates to True and stops when it is False. Note that if the tested expression never evaluates to False then you have an “infinite loop”, which is not good.\n",
        "\n",
        "In this example we generate a series of numbers by doubling a value after each iteration, until a limit is reached: "
      ]
    },
    {
      "cell_type": "code",
      "metadata": {
        "id": "-9MOMZp1d_sX",
        "outputId": "4b8d566b-7e61-4fba-ab86-6173f240130b"
      },
      "source": [
        "value = 0.5\n",
        "while value < 8:\n",
        "    value = value * 2\n",
        "    print(value)\n",
        "\n",
        "print(\"final value:\", value)"
      ],
      "execution_count": null,
      "outputs": [
        {
          "output_type": "stream",
          "text": [
            "1.0\n",
            "2.0\n",
            "4.0\n",
            "8.0\n",
            "final value: 8.0\n"
          ],
          "name": "stdout"
        }
      ]
    },
    {
      "cell_type": "markdown",
      "metadata": {
        "id": "gVLsVwxjd_sX"
      },
      "source": [
        "Whats going on here is that the value is doubled in each iteration and once it gets to 8 the while test fails (8 is not less than 8) and that last value is preserved. Note that if the test were instead value `<= 8` then we would get one more doubling and the value would reach 16."
      ]
    },
    {
      "cell_type": "markdown",
      "metadata": {
        "id": "O1LZuUP2d_sX"
      },
      "source": [
        "## Skipping and breaking loops"
      ]
    },
    {
      "cell_type": "markdown",
      "metadata": {
        "id": "-WtLJre0d_sY"
      },
      "source": [
        "Python has two ways of affecting the flow of the <tt>for</tt> or <tt>while</tt> loop inside the block. The <tt>continue</tt> statement means that the rest of the code in the block is skipped for this particular item in the collection, i.e. jump to the next iteration. In this example negative numbers are left out of a summation:"
      ]
    },
    {
      "cell_type": "code",
      "metadata": {
        "id": "kzLHzktxd_sY",
        "outputId": "776040b0-9a0a-47e6-d2cf-478d845d80b0"
      },
      "source": [
        "#Sum of positive integers in a list\n",
        "values = [10, -5, 3, -1, 7]\n",
        "\n",
        "total = 0\n",
        "for v in values:\n",
        "    if v < 0:\n",
        "        continue # Skip this iteration   \n",
        "    total += v\n",
        "\n",
        "print(total)"
      ],
      "execution_count": null,
      "outputs": [
        {
          "output_type": "stream",
          "text": [
            "20\n"
          ],
          "name": "stdout"
        }
      ]
    },
    {
      "cell_type": "markdown",
      "metadata": {
        "id": "3WKT2TMCd_sY"
      },
      "source": [
        "The other way of affecting a loop is with the <tt>break</tt> statement. In contrast to the <tt>continue</tt> statement, this immediately causes all looping to finish, and execution is resumed at the next statement _after_ the loop."
      ]
    },
    {
      "cell_type": "markdown",
      "metadata": {
        "id": "br5pXaDbd_sY"
      },
      "source": [
        "# Functions\n"
      ]
    },
    {
      "cell_type": "markdown",
      "metadata": {
        "id": "RxfP4M3Qd_sY"
      },
      "source": [
        "## Function basics"
      ]
    },
    {
      "cell_type": "markdown",
      "metadata": {
        "id": "0CaccKlpd_sY"
      },
      "source": [
        "We have already seen a number of functions built into python that let us do useful things to strings, collections and numbers etc. For example `print()` or `len()` which is passed some kind of sequence object and returns the length of the sequence.\n",
        "\n",
        "This is the general form of a function; it takes some input _arguments_ and returns some output based on the supplied arguments.\n",
        "\n",
        "The arguments to a function, if any, are supplied in parentheses and the result of the function _call_ is the result of evaluating the function.\n"
      ]
    },
    {
      "cell_type": "code",
      "metadata": {
        "id": "ARroj7acd_sY"
      },
      "source": [
        "def sayHello():\n",
        "    print('Hello world!')"
      ],
      "execution_count": null,
      "outputs": []
    },
    {
      "cell_type": "code",
      "metadata": {
        "id": "I9ZE5iATd_sZ",
        "outputId": "a84fb6ab-5161-4bb7-c701-468d4707fd8f"
      },
      "source": [
        "sayHello()"
      ],
      "execution_count": null,
      "outputs": [
        {
          "output_type": "stream",
          "text": [
            "Hello world!\n"
          ],
          "name": "stdout"
        }
      ]
    },
    {
      "cell_type": "markdown",
      "metadata": {
        "id": "HBmJMvzXd_sZ"
      },
      "source": [
        "## Function definition syntax"
      ]
    },
    {
      "cell_type": "markdown",
      "metadata": {
        "id": "mwQ6UT5kd_sZ"
      },
      "source": [
        "Functions are defined in Python using the `def` keyword followed by the name of the function. If your function takes some arguments (input data) then you can name these in parentheses after the function name. If your function does not take any arguments you still need some empty parentheses. Here we define a simple function named `sayHello` that prints a line of text to the screen:"
      ]
    },
    {
      "cell_type": "code",
      "metadata": {
        "id": "6rYA6IRad_sZ"
      },
      "source": [
        "def square(x):\n",
        "  y = x*x\n",
        "  return y"
      ],
      "execution_count": null,
      "outputs": []
    },
    {
      "cell_type": "code",
      "metadata": {
        "id": "WaYMvYe8d_sZ",
        "outputId": "a81196b0-a332-4997-bab2-06b010fbeb7a"
      },
      "source": [
        "square(4)"
      ],
      "execution_count": null,
      "outputs": [
        {
          "output_type": "execute_result",
          "data": {
            "text/plain": [
              "16"
            ]
          },
          "metadata": {
            "tags": []
          },
          "execution_count": 92
        }
      ]
    },
    {
      "cell_type": "markdown",
      "metadata": {
        "id": "TVFuT_UPd_sZ"
      },
      "source": [
        "Once the `return` statement is reached the operation of the function will end, and anything on the return line will be passed back as output. Here we call the function on an input number and catch the output value as result. Notice how the names of the variables used inside the function definition are separate from any variable names we may choose to use when calling the function.\n",
        "  "
      ]
    },
    {
      "cell_type": "code",
      "metadata": {
        "id": "ZxmJkASKd_sa",
        "outputId": "8de7cfb9-e570-4d32-bede-f89a57d91c03"
      },
      "source": [
        "number = 9\n",
        "result = square(number) # Call the square() function which returns a result\n",
        "print(result)           # Prints: 49"
      ],
      "execution_count": null,
      "outputs": [
        {
          "output_type": "stream",
          "text": [
            "81\n"
          ],
          "name": "stdout"
        }
      ]
    },
    {
      "cell_type": "markdown",
      "metadata": {
        "id": "IES4OoLAd_sa"
      },
      "source": [
        "The function `square` can be used from now on anywhere in your program as many times as required on any (numeric) input values we like."
      ]
    },
    {
      "cell_type": "code",
      "metadata": {
        "id": "PSTzReLld_sa",
        "outputId": "5673a4d8-1e6d-4fa9-b3c9-90ee69fcddb0"
      },
      "source": [
        "0.0012 * 0.0012"
      ],
      "execution_count": null,
      "outputs": [
        {
          "output_type": "execute_result",
          "data": {
            "text/plain": [
              "1.4399999999999998e-06"
            ]
          },
          "metadata": {
            "tags": []
          },
          "execution_count": 96
        }
      ]
    },
    {
      "cell_type": "code",
      "metadata": {
        "id": "G9WdKxIrd_sa",
        "outputId": "4395366d-45a1-4684-cd7c-bd9042744a21"
      },
      "source": [
        "print(square(1.2e-3))   # Prints: 1.4399999999999998e-06"
      ],
      "execution_count": null,
      "outputs": [
        {
          "output_type": "stream",
          "text": [
            "1.4399999999999998e-06\n"
          ],
          "name": "stdout"
        }
      ]
    },
    {
      "cell_type": "markdown",
      "metadata": {
        "id": "6ioE6uPUd_sa"
      },
      "source": [
        "A function can accept multiple input values, otherwise known as arguments. These are separated by commas inside the brackets of the function definition. Here we define a function that takes two arguments and performs a calculation on both, before sending back the result.\n"
      ]
    },
    {
      "cell_type": "code",
      "metadata": {
        "id": "4GGjTubsd_sa",
        "outputId": "4e76d555-016d-4f38-aa5b-5878f2b0ce9d"
      },
      "source": [
        "def calcFunc(x, y):\n",
        "  z = x*x + y*y\n",
        "  return z\n",
        "\n",
        "\n",
        "result = calcFunc(1.414, 2.0)\n",
        "print(result)  #  5.999396"
      ],
      "execution_count": null,
      "outputs": [
        {
          "output_type": "stream",
          "text": [
            "5.999396\n"
          ],
          "name": "stdout"
        }
      ]
    },
    {
      "cell_type": "code",
      "metadata": {
        "id": "eOvlqf7Gd_sb"
      },
      "source": [
        "z = 1.414*1.414 + 2*2"
      ],
      "execution_count": null,
      "outputs": []
    },
    {
      "cell_type": "code",
      "metadata": {
        "id": "wZ2TerpRd_sb",
        "outputId": "7d695636-1c17-434b-8561-0a594e7ff38c"
      },
      "source": [
        "z"
      ],
      "execution_count": null,
      "outputs": [
        {
          "output_type": "execute_result",
          "data": {
            "text/plain": [
              "5.999396"
            ]
          },
          "metadata": {
            "tags": []
          },
          "execution_count": 100
        }
      ]
    },
    {
      "cell_type": "markdown",
      "metadata": {
        "id": "XYp71flxd_sb"
      },
      "source": [
        "Note that this function does not check that x and y are valid forms of input. For the function to work properly we assume they are numbers. Depending on how this function is going to be used, appropriate checks could be added."
      ]
    }
  ]
}