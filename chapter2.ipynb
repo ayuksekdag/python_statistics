{
  "nbformat": 4,
  "nbformat_minor": 0,
  "metadata": {
    "colab": {
      "name": "chapter2.ipynb",
      "provenance": [],
      "authorship_tag": "ABX9TyOKiuGjjQcnYO29CU5FKYQK",
      "include_colab_link": true
    },
    "kernelspec": {
      "name": "python3",
      "display_name": "Python 3"
    },
    "language_info": {
      "name": "python"
    }
  },
  "cells": [
    {
      "cell_type": "markdown",
      "metadata": {
        "id": "view-in-github",
        "colab_type": "text"
      },
      "source": [
        "<a href=\"https://colab.research.google.com/github/ayuksekdag/python_statistics/blob/main/chapter2.ipynb\" target=\"_parent\"><img src=\"https://colab.research.google.com/assets/colab-badge.svg\" alt=\"Open In Colab\"/></a>"
      ]
    },
    {
      "cell_type": "code",
      "metadata": {
        "id": "xlW8A8x1P2dU"
      },
      "source": [
        "import pandas as pd"
      ],
      "execution_count": 1,
      "outputs": []
    },
    {
      "cell_type": "code",
      "metadata": {
        "colab": {
          "base_uri": "https://localhost:8080/",
          "height": 379
        },
        "id": "NX3OOKEEP9er",
        "outputId": "3cc29b1d-22cd-48a9-c757-cbb742db4581"
      },
      "source": [
        "df= pd.read_csv('https://raw.githubusercontent.com/ayuksekdag/python_statistics/main/Planets.csv',delimiter=';')\n",
        "df"
      ],
      "execution_count": 2,
      "outputs": [
        {
          "output_type": "execute_result",
          "data": {
            "text/html": [
              "<div>\n",
              "<style scoped>\n",
              "    .dataframe tbody tr th:only-of-type {\n",
              "        vertical-align: middle;\n",
              "    }\n",
              "\n",
              "    .dataframe tbody tr th {\n",
              "        vertical-align: top;\n",
              "    }\n",
              "\n",
              "    .dataframe thead th {\n",
              "        text-align: right;\n",
              "    }\n",
              "</style>\n",
              "<table border=\"1\" class=\"dataframe\">\n",
              "  <thead>\n",
              "    <tr style=\"text-align: right;\">\n",
              "      <th></th>\n",
              "      <th>Planet</th>\n",
              "      <th>Mass</th>\n",
              "      <th>Diameter</th>\n",
              "      <th>DayLength</th>\n",
              "      <th>SunDistance</th>\n",
              "      <th>OrbitPeriod</th>\n",
              "      <th>OrbitVelocity</th>\n",
              "      <th>MeanTemperature</th>\n",
              "      <th>SurfacePressure</th>\n",
              "      <th>Moons</th>\n",
              "      <th>Rings</th>\n",
              "      <th>MagneticField</th>\n",
              "      <th>FirstVisited</th>\n",
              "      <th>FirstMission</th>\n",
              "    </tr>\n",
              "  </thead>\n",
              "  <tbody>\n",
              "    <tr>\n",
              "      <th>0</th>\n",
              "      <td>MERCURY</td>\n",
              "      <td>0,33</td>\n",
              "      <td>4879.000</td>\n",
              "      <td>4222,6</td>\n",
              "      <td>57,9</td>\n",
              "      <td>88</td>\n",
              "      <td>47,4</td>\n",
              "      <td>167</td>\n",
              "      <td>0</td>\n",
              "      <td>0</td>\n",
              "      <td>No</td>\n",
              "      <td>Yes</td>\n",
              "      <td>1974-03-29</td>\n",
              "      <td>Mariner 10</td>\n",
              "    </tr>\n",
              "    <tr>\n",
              "      <th>1</th>\n",
              "      <td>VENUS</td>\n",
              "      <td>4,87</td>\n",
              "      <td>12.104</td>\n",
              "      <td>2802</td>\n",
              "      <td>108,2</td>\n",
              "      <td>224,7</td>\n",
              "      <td>35</td>\n",
              "      <td>464</td>\n",
              "      <td>92</td>\n",
              "      <td>0</td>\n",
              "      <td>No</td>\n",
              "      <td>No</td>\n",
              "      <td>1962-08-27</td>\n",
              "      <td>Mariner 2</td>\n",
              "    </tr>\n",
              "    <tr>\n",
              "      <th>2</th>\n",
              "      <td>EARTH</td>\n",
              "      <td>5,97</td>\n",
              "      <td>12.756</td>\n",
              "      <td>24</td>\n",
              "      <td>149,6</td>\n",
              "      <td>365,2</td>\n",
              "      <td>29,8</td>\n",
              "      <td>15</td>\n",
              "      <td>1</td>\n",
              "      <td>1</td>\n",
              "      <td>No</td>\n",
              "      <td>Yes</td>\n",
              "      <td>NaN</td>\n",
              "      <td>NaN</td>\n",
              "    </tr>\n",
              "    <tr>\n",
              "      <th>3</th>\n",
              "      <td>MOON</td>\n",
              "      <td>0,073</td>\n",
              "      <td>3475.000</td>\n",
              "      <td>708,7</td>\n",
              "      <td>NaN</td>\n",
              "      <td>27,3</td>\n",
              "      <td>1</td>\n",
              "      <td>-20</td>\n",
              "      <td>0</td>\n",
              "      <td>0</td>\n",
              "      <td>No</td>\n",
              "      <td>No</td>\n",
              "      <td>1959-09-12</td>\n",
              "      <td>Luna 2</td>\n",
              "    </tr>\n",
              "    <tr>\n",
              "      <th>4</th>\n",
              "      <td>MARS</td>\n",
              "      <td>0,642</td>\n",
              "      <td>6792.000</td>\n",
              "      <td>24,7</td>\n",
              "      <td>227,9</td>\n",
              "      <td>687</td>\n",
              "      <td>24,1</td>\n",
              "      <td>-65</td>\n",
              "      <td>0,01</td>\n",
              "      <td>2</td>\n",
              "      <td>No</td>\n",
              "      <td>No</td>\n",
              "      <td>1965-07-15</td>\n",
              "      <td>Mariner 4</td>\n",
              "    </tr>\n",
              "    <tr>\n",
              "      <th>5</th>\n",
              "      <td>JUPITER</td>\n",
              "      <td>1898</td>\n",
              "      <td>142.984</td>\n",
              "      <td>9,9</td>\n",
              "      <td>778,6</td>\n",
              "      <td>4331</td>\n",
              "      <td>13,1</td>\n",
              "      <td>-110</td>\n",
              "      <td>NaN</td>\n",
              "      <td>67</td>\n",
              "      <td>Yes</td>\n",
              "      <td>Yes</td>\n",
              "      <td>1973-12-04</td>\n",
              "      <td>Pioneer 10</td>\n",
              "    </tr>\n",
              "    <tr>\n",
              "      <th>6</th>\n",
              "      <td>SATURN</td>\n",
              "      <td>568</td>\n",
              "      <td>120.536</td>\n",
              "      <td>10,7</td>\n",
              "      <td>1433,5</td>\n",
              "      <td>10.747</td>\n",
              "      <td>9,7</td>\n",
              "      <td>-140</td>\n",
              "      <td>NaN</td>\n",
              "      <td>62</td>\n",
              "      <td>Yes</td>\n",
              "      <td>Yes</td>\n",
              "      <td>1979-09-01</td>\n",
              "      <td>Pioneer 11</td>\n",
              "    </tr>\n",
              "    <tr>\n",
              "      <th>7</th>\n",
              "      <td>URANUS</td>\n",
              "      <td>86,8</td>\n",
              "      <td>51.118</td>\n",
              "      <td>17,2</td>\n",
              "      <td>2872,5</td>\n",
              "      <td>30.589</td>\n",
              "      <td>6,8</td>\n",
              "      <td>-195</td>\n",
              "      <td>NaN</td>\n",
              "      <td>27</td>\n",
              "      <td>Yes</td>\n",
              "      <td>Yes</td>\n",
              "      <td>1986-01-24</td>\n",
              "      <td>Voyager 2</td>\n",
              "    </tr>\n",
              "    <tr>\n",
              "      <th>8</th>\n",
              "      <td>NEPTUNE</td>\n",
              "      <td>102</td>\n",
              "      <td>49.528</td>\n",
              "      <td>16,1</td>\n",
              "      <td>4495,1</td>\n",
              "      <td>59.800</td>\n",
              "      <td>5,4</td>\n",
              "      <td>-200</td>\n",
              "      <td>NaN</td>\n",
              "      <td>14</td>\n",
              "      <td>Yes</td>\n",
              "      <td>Yes</td>\n",
              "      <td>1989-08-25</td>\n",
              "      <td>Voyager 2</td>\n",
              "    </tr>\n",
              "    <tr>\n",
              "      <th>9</th>\n",
              "      <td>PLUTO</td>\n",
              "      <td>0,0146</td>\n",
              "      <td>2370.000</td>\n",
              "      <td>153,3</td>\n",
              "      <td>5906,4</td>\n",
              "      <td>90.560</td>\n",
              "      <td>4,7</td>\n",
              "      <td>-225</td>\n",
              "      <td>0,00001</td>\n",
              "      <td>5</td>\n",
              "      <td>No</td>\n",
              "      <td>NaN</td>\n",
              "      <td>2015-07-14</td>\n",
              "      <td>New Horizons</td>\n",
              "    </tr>\n",
              "  </tbody>\n",
              "</table>\n",
              "</div>"
            ],
            "text/plain": [
              "    Planet    Mass  Diameter  ... MagneticField FirstVisited  FirstMission\n",
              "0  MERCURY    0,33  4879.000  ...           Yes   1974-03-29    Mariner 10\n",
              "1    VENUS    4,87    12.104  ...            No   1962-08-27     Mariner 2\n",
              "2    EARTH    5,97    12.756  ...           Yes          NaN           NaN\n",
              "3     MOON   0,073  3475.000  ...            No   1959-09-12        Luna 2\n",
              "4     MARS   0,642  6792.000  ...            No   1965-07-15     Mariner 4\n",
              "5  JUPITER    1898   142.984  ...           Yes   1973-12-04    Pioneer 10\n",
              "6   SATURN     568   120.536  ...           Yes   1979-09-01    Pioneer 11\n",
              "7   URANUS    86,8    51.118  ...           Yes   1986-01-24     Voyager 2\n",
              "8  NEPTUNE     102    49.528  ...           Yes   1989-08-25     Voyager 2\n",
              "9    PLUTO  0,0146  2370.000  ...           NaN   2015-07-14  New Horizons\n",
              "\n",
              "[10 rows x 14 columns]"
            ]
          },
          "metadata": {
            "tags": []
          },
          "execution_count": 2
        }
      ]
    },
    {
      "cell_type": "code",
      "metadata": {
        "colab": {
          "base_uri": "https://localhost:8080/"
        },
        "id": "ngW_yDAZTqVo",
        "outputId": "749d4386-ffa6-49db-a3bd-05732fccedf0"
      },
      "source": [
        "df.info()"
      ],
      "execution_count": 3,
      "outputs": [
        {
          "output_type": "stream",
          "text": [
            "<class 'pandas.core.frame.DataFrame'>\n",
            "RangeIndex: 10 entries, 0 to 9\n",
            "Data columns (total 14 columns):\n",
            " #   Column           Non-Null Count  Dtype  \n",
            "---  ------           --------------  -----  \n",
            " 0   Planet           10 non-null     object \n",
            " 1   Mass             10 non-null     object \n",
            " 2   Diameter         10 non-null     float64\n",
            " 3   DayLength        10 non-null     object \n",
            " 4   SunDistance      9 non-null      object \n",
            " 5   OrbitPeriod      10 non-null     object \n",
            " 6   OrbitVelocity    10 non-null     object \n",
            " 7   MeanTemperature  10 non-null     int64  \n",
            " 8   SurfacePressure  6 non-null      object \n",
            " 9   Moons            10 non-null     int64  \n",
            " 10  Rings            10 non-null     object \n",
            " 11  MagneticField    9 non-null      object \n",
            " 12  FirstVisited     9 non-null      object \n",
            " 13  FirstMission     9 non-null      object \n",
            "dtypes: float64(1), int64(2), object(11)\n",
            "memory usage: 1.2+ KB\n"
          ],
          "name": "stdout"
        }
      ]
    },
    {
      "cell_type": "code",
      "metadata": {
        "id": "sApZeGyN2zsD",
        "colab": {
          "base_uri": "https://localhost:8080/"
        },
        "outputId": "9fcb0b8d-a065-4ca0-b962-a34dede6fdf1"
      },
      "source": [
        "df.shape"
      ],
      "execution_count": 4,
      "outputs": [
        {
          "output_type": "execute_result",
          "data": {
            "text/plain": [
              "(10, 14)"
            ]
          },
          "metadata": {
            "tags": []
          },
          "execution_count": 4
        }
      ]
    },
    {
      "cell_type": "code",
      "metadata": {
        "id": "Jxs45CDT4ul9",
        "colab": {
          "base_uri": "https://localhost:8080/"
        },
        "outputId": "3cbf5e10-365e-496e-b193-eee3085557e2"
      },
      "source": [
        "df.index"
      ],
      "execution_count": null,
      "outputs": [
        {
          "output_type": "execute_result",
          "data": {
            "text/plain": [
              "RangeIndex(start=0, stop=10, step=1)"
            ]
          },
          "metadata": {
            "tags": []
          },
          "execution_count": 3
        }
      ]
    },
    {
      "cell_type": "code",
      "metadata": {
        "id": "uluBp8ZX4xuV",
        "colab": {
          "base_uri": "https://localhost:8080/",
          "height": 410
        },
        "outputId": "901ae8a9-f327-4777-e134-e9e92aa886d0"
      },
      "source": [
        "df.set_index('Planet')"
      ],
      "execution_count": 5,
      "outputs": [
        {
          "output_type": "execute_result",
          "data": {
            "text/html": [
              "<div>\n",
              "<style scoped>\n",
              "    .dataframe tbody tr th:only-of-type {\n",
              "        vertical-align: middle;\n",
              "    }\n",
              "\n",
              "    .dataframe tbody tr th {\n",
              "        vertical-align: top;\n",
              "    }\n",
              "\n",
              "    .dataframe thead th {\n",
              "        text-align: right;\n",
              "    }\n",
              "</style>\n",
              "<table border=\"1\" class=\"dataframe\">\n",
              "  <thead>\n",
              "    <tr style=\"text-align: right;\">\n",
              "      <th></th>\n",
              "      <th>Mass</th>\n",
              "      <th>Diameter</th>\n",
              "      <th>DayLength</th>\n",
              "      <th>SunDistance</th>\n",
              "      <th>OrbitPeriod</th>\n",
              "      <th>OrbitVelocity</th>\n",
              "      <th>MeanTemperature</th>\n",
              "      <th>SurfacePressure</th>\n",
              "      <th>Moons</th>\n",
              "      <th>Rings</th>\n",
              "      <th>MagneticField</th>\n",
              "      <th>FirstVisited</th>\n",
              "      <th>FirstMission</th>\n",
              "    </tr>\n",
              "    <tr>\n",
              "      <th>Planet</th>\n",
              "      <th></th>\n",
              "      <th></th>\n",
              "      <th></th>\n",
              "      <th></th>\n",
              "      <th></th>\n",
              "      <th></th>\n",
              "      <th></th>\n",
              "      <th></th>\n",
              "      <th></th>\n",
              "      <th></th>\n",
              "      <th></th>\n",
              "      <th></th>\n",
              "      <th></th>\n",
              "    </tr>\n",
              "  </thead>\n",
              "  <tbody>\n",
              "    <tr>\n",
              "      <th>MERCURY</th>\n",
              "      <td>0,33</td>\n",
              "      <td>4879.000</td>\n",
              "      <td>4222,6</td>\n",
              "      <td>57,9</td>\n",
              "      <td>88</td>\n",
              "      <td>47,4</td>\n",
              "      <td>167</td>\n",
              "      <td>0</td>\n",
              "      <td>0</td>\n",
              "      <td>No</td>\n",
              "      <td>Yes</td>\n",
              "      <td>1974-03-29</td>\n",
              "      <td>Mariner 10</td>\n",
              "    </tr>\n",
              "    <tr>\n",
              "      <th>VENUS</th>\n",
              "      <td>4,87</td>\n",
              "      <td>12.104</td>\n",
              "      <td>2802</td>\n",
              "      <td>108,2</td>\n",
              "      <td>224,7</td>\n",
              "      <td>35</td>\n",
              "      <td>464</td>\n",
              "      <td>92</td>\n",
              "      <td>0</td>\n",
              "      <td>No</td>\n",
              "      <td>No</td>\n",
              "      <td>1962-08-27</td>\n",
              "      <td>Mariner 2</td>\n",
              "    </tr>\n",
              "    <tr>\n",
              "      <th>EARTH</th>\n",
              "      <td>5,97</td>\n",
              "      <td>12.756</td>\n",
              "      <td>24</td>\n",
              "      <td>149,6</td>\n",
              "      <td>365,2</td>\n",
              "      <td>29,8</td>\n",
              "      <td>15</td>\n",
              "      <td>1</td>\n",
              "      <td>1</td>\n",
              "      <td>No</td>\n",
              "      <td>Yes</td>\n",
              "      <td>NaN</td>\n",
              "      <td>NaN</td>\n",
              "    </tr>\n",
              "    <tr>\n",
              "      <th>MOON</th>\n",
              "      <td>0,073</td>\n",
              "      <td>3475.000</td>\n",
              "      <td>708,7</td>\n",
              "      <td>NaN</td>\n",
              "      <td>27,3</td>\n",
              "      <td>1</td>\n",
              "      <td>-20</td>\n",
              "      <td>0</td>\n",
              "      <td>0</td>\n",
              "      <td>No</td>\n",
              "      <td>No</td>\n",
              "      <td>1959-09-12</td>\n",
              "      <td>Luna 2</td>\n",
              "    </tr>\n",
              "    <tr>\n",
              "      <th>MARS</th>\n",
              "      <td>0,642</td>\n",
              "      <td>6792.000</td>\n",
              "      <td>24,7</td>\n",
              "      <td>227,9</td>\n",
              "      <td>687</td>\n",
              "      <td>24,1</td>\n",
              "      <td>-65</td>\n",
              "      <td>0,01</td>\n",
              "      <td>2</td>\n",
              "      <td>No</td>\n",
              "      <td>No</td>\n",
              "      <td>1965-07-15</td>\n",
              "      <td>Mariner 4</td>\n",
              "    </tr>\n",
              "    <tr>\n",
              "      <th>JUPITER</th>\n",
              "      <td>1898</td>\n",
              "      <td>142.984</td>\n",
              "      <td>9,9</td>\n",
              "      <td>778,6</td>\n",
              "      <td>4331</td>\n",
              "      <td>13,1</td>\n",
              "      <td>-110</td>\n",
              "      <td>NaN</td>\n",
              "      <td>67</td>\n",
              "      <td>Yes</td>\n",
              "      <td>Yes</td>\n",
              "      <td>1973-12-04</td>\n",
              "      <td>Pioneer 10</td>\n",
              "    </tr>\n",
              "    <tr>\n",
              "      <th>SATURN</th>\n",
              "      <td>568</td>\n",
              "      <td>120.536</td>\n",
              "      <td>10,7</td>\n",
              "      <td>1433,5</td>\n",
              "      <td>10.747</td>\n",
              "      <td>9,7</td>\n",
              "      <td>-140</td>\n",
              "      <td>NaN</td>\n",
              "      <td>62</td>\n",
              "      <td>Yes</td>\n",
              "      <td>Yes</td>\n",
              "      <td>1979-09-01</td>\n",
              "      <td>Pioneer 11</td>\n",
              "    </tr>\n",
              "    <tr>\n",
              "      <th>URANUS</th>\n",
              "      <td>86,8</td>\n",
              "      <td>51.118</td>\n",
              "      <td>17,2</td>\n",
              "      <td>2872,5</td>\n",
              "      <td>30.589</td>\n",
              "      <td>6,8</td>\n",
              "      <td>-195</td>\n",
              "      <td>NaN</td>\n",
              "      <td>27</td>\n",
              "      <td>Yes</td>\n",
              "      <td>Yes</td>\n",
              "      <td>1986-01-24</td>\n",
              "      <td>Voyager 2</td>\n",
              "    </tr>\n",
              "    <tr>\n",
              "      <th>NEPTUNE</th>\n",
              "      <td>102</td>\n",
              "      <td>49.528</td>\n",
              "      <td>16,1</td>\n",
              "      <td>4495,1</td>\n",
              "      <td>59.800</td>\n",
              "      <td>5,4</td>\n",
              "      <td>-200</td>\n",
              "      <td>NaN</td>\n",
              "      <td>14</td>\n",
              "      <td>Yes</td>\n",
              "      <td>Yes</td>\n",
              "      <td>1989-08-25</td>\n",
              "      <td>Voyager 2</td>\n",
              "    </tr>\n",
              "    <tr>\n",
              "      <th>PLUTO</th>\n",
              "      <td>0,0146</td>\n",
              "      <td>2370.000</td>\n",
              "      <td>153,3</td>\n",
              "      <td>5906,4</td>\n",
              "      <td>90.560</td>\n",
              "      <td>4,7</td>\n",
              "      <td>-225</td>\n",
              "      <td>0,00001</td>\n",
              "      <td>5</td>\n",
              "      <td>No</td>\n",
              "      <td>NaN</td>\n",
              "      <td>2015-07-14</td>\n",
              "      <td>New Horizons</td>\n",
              "    </tr>\n",
              "  </tbody>\n",
              "</table>\n",
              "</div>"
            ],
            "text/plain": [
              "           Mass  Diameter DayLength  ... MagneticField FirstVisited  FirstMission\n",
              "Planet                               ...                                         \n",
              "MERCURY    0,33  4879.000    4222,6  ...           Yes   1974-03-29    Mariner 10\n",
              "VENUS      4,87    12.104      2802  ...            No   1962-08-27     Mariner 2\n",
              "EARTH      5,97    12.756        24  ...           Yes          NaN           NaN\n",
              "MOON      0,073  3475.000     708,7  ...            No   1959-09-12        Luna 2\n",
              "MARS      0,642  6792.000      24,7  ...            No   1965-07-15     Mariner 4\n",
              "JUPITER    1898   142.984       9,9  ...           Yes   1973-12-04    Pioneer 10\n",
              "SATURN      568   120.536      10,7  ...           Yes   1979-09-01    Pioneer 11\n",
              "URANUS     86,8    51.118      17,2  ...           Yes   1986-01-24     Voyager 2\n",
              "NEPTUNE     102    49.528      16,1  ...           Yes   1989-08-25     Voyager 2\n",
              "PLUTO    0,0146  2370.000     153,3  ...           NaN   2015-07-14  New Horizons\n",
              "\n",
              "[10 rows x 13 columns]"
            ]
          },
          "metadata": {
            "tags": []
          },
          "execution_count": 5
        }
      ]
    },
    {
      "cell_type": "code",
      "metadata": {
        "id": "RxvOpAX3Wn6L",
        "outputId": "80a18b37-13fe-493a-fdbc-e0f038ba6f52",
        "colab": {
          "base_uri": "https://localhost:8080/",
          "height": 100
        }
      },
      "source": [
        "df.loc[ df.Planet == 'VENUS']"
      ],
      "execution_count": 9,
      "outputs": [
        {
          "output_type": "execute_result",
          "data": {
            "text/html": [
              "<div>\n",
              "<style scoped>\n",
              "    .dataframe tbody tr th:only-of-type {\n",
              "        vertical-align: middle;\n",
              "    }\n",
              "\n",
              "    .dataframe tbody tr th {\n",
              "        vertical-align: top;\n",
              "    }\n",
              "\n",
              "    .dataframe thead th {\n",
              "        text-align: right;\n",
              "    }\n",
              "</style>\n",
              "<table border=\"1\" class=\"dataframe\">\n",
              "  <thead>\n",
              "    <tr style=\"text-align: right;\">\n",
              "      <th></th>\n",
              "      <th>Planet</th>\n",
              "      <th>Mass</th>\n",
              "      <th>Diameter</th>\n",
              "      <th>DayLength</th>\n",
              "      <th>SunDistance</th>\n",
              "      <th>OrbitPeriod</th>\n",
              "      <th>OrbitVelocity</th>\n",
              "      <th>MeanTemperature</th>\n",
              "      <th>SurfacePressure</th>\n",
              "      <th>Moons</th>\n",
              "      <th>Rings</th>\n",
              "      <th>MagneticField</th>\n",
              "      <th>FirstVisited</th>\n",
              "      <th>FirstMission</th>\n",
              "    </tr>\n",
              "  </thead>\n",
              "  <tbody>\n",
              "    <tr>\n",
              "      <th>1</th>\n",
              "      <td>VENUS</td>\n",
              "      <td>4,87</td>\n",
              "      <td>12.104</td>\n",
              "      <td>2802</td>\n",
              "      <td>108,2</td>\n",
              "      <td>224,7</td>\n",
              "      <td>35</td>\n",
              "      <td>464</td>\n",
              "      <td>92</td>\n",
              "      <td>0</td>\n",
              "      <td>No</td>\n",
              "      <td>No</td>\n",
              "      <td>1962-08-27</td>\n",
              "      <td>Mariner 2</td>\n",
              "    </tr>\n",
              "  </tbody>\n",
              "</table>\n",
              "</div>"
            ],
            "text/plain": [
              "  Planet  Mass  Diameter  ... MagneticField FirstVisited FirstMission\n",
              "1  VENUS  4,87    12.104  ...            No   1962-08-27    Mariner 2\n",
              "\n",
              "[1 rows x 14 columns]"
            ]
          },
          "metadata": {
            "tags": []
          },
          "execution_count": 9
        }
      ]
    },
    {
      "cell_type": "code",
      "metadata": {
        "id": "NKhpTLkvXdia",
        "outputId": "388626e5-ba0e-4336-b199-18a762bd789c",
        "colab": {
          "base_uri": "https://localhost:8080/",
          "height": 193
        }
      },
      "source": [
        "df.loc[df.Rings == 'Yes' ]"
      ],
      "execution_count": 10,
      "outputs": [
        {
          "output_type": "execute_result",
          "data": {
            "text/html": [
              "<div>\n",
              "<style scoped>\n",
              "    .dataframe tbody tr th:only-of-type {\n",
              "        vertical-align: middle;\n",
              "    }\n",
              "\n",
              "    .dataframe tbody tr th {\n",
              "        vertical-align: top;\n",
              "    }\n",
              "\n",
              "    .dataframe thead th {\n",
              "        text-align: right;\n",
              "    }\n",
              "</style>\n",
              "<table border=\"1\" class=\"dataframe\">\n",
              "  <thead>\n",
              "    <tr style=\"text-align: right;\">\n",
              "      <th></th>\n",
              "      <th>Planet</th>\n",
              "      <th>Mass</th>\n",
              "      <th>Diameter</th>\n",
              "      <th>DayLength</th>\n",
              "      <th>SunDistance</th>\n",
              "      <th>OrbitPeriod</th>\n",
              "      <th>OrbitVelocity</th>\n",
              "      <th>MeanTemperature</th>\n",
              "      <th>SurfacePressure</th>\n",
              "      <th>Moons</th>\n",
              "      <th>Rings</th>\n",
              "      <th>MagneticField</th>\n",
              "      <th>FirstVisited</th>\n",
              "      <th>FirstMission</th>\n",
              "    </tr>\n",
              "  </thead>\n",
              "  <tbody>\n",
              "    <tr>\n",
              "      <th>5</th>\n",
              "      <td>JUPITER</td>\n",
              "      <td>1898</td>\n",
              "      <td>142.984</td>\n",
              "      <td>9,9</td>\n",
              "      <td>778,6</td>\n",
              "      <td>4331</td>\n",
              "      <td>13,1</td>\n",
              "      <td>-110</td>\n",
              "      <td>NaN</td>\n",
              "      <td>67</td>\n",
              "      <td>Yes</td>\n",
              "      <td>Yes</td>\n",
              "      <td>1973-12-04</td>\n",
              "      <td>Pioneer 10</td>\n",
              "    </tr>\n",
              "    <tr>\n",
              "      <th>6</th>\n",
              "      <td>SATURN</td>\n",
              "      <td>568</td>\n",
              "      <td>120.536</td>\n",
              "      <td>10,7</td>\n",
              "      <td>1433,5</td>\n",
              "      <td>10.747</td>\n",
              "      <td>9,7</td>\n",
              "      <td>-140</td>\n",
              "      <td>NaN</td>\n",
              "      <td>62</td>\n",
              "      <td>Yes</td>\n",
              "      <td>Yes</td>\n",
              "      <td>1979-09-01</td>\n",
              "      <td>Pioneer 11</td>\n",
              "    </tr>\n",
              "    <tr>\n",
              "      <th>7</th>\n",
              "      <td>URANUS</td>\n",
              "      <td>86,8</td>\n",
              "      <td>51.118</td>\n",
              "      <td>17,2</td>\n",
              "      <td>2872,5</td>\n",
              "      <td>30.589</td>\n",
              "      <td>6,8</td>\n",
              "      <td>-195</td>\n",
              "      <td>NaN</td>\n",
              "      <td>27</td>\n",
              "      <td>Yes</td>\n",
              "      <td>Yes</td>\n",
              "      <td>1986-01-24</td>\n",
              "      <td>Voyager 2</td>\n",
              "    </tr>\n",
              "    <tr>\n",
              "      <th>8</th>\n",
              "      <td>NEPTUNE</td>\n",
              "      <td>102</td>\n",
              "      <td>49.528</td>\n",
              "      <td>16,1</td>\n",
              "      <td>4495,1</td>\n",
              "      <td>59.800</td>\n",
              "      <td>5,4</td>\n",
              "      <td>-200</td>\n",
              "      <td>NaN</td>\n",
              "      <td>14</td>\n",
              "      <td>Yes</td>\n",
              "      <td>Yes</td>\n",
              "      <td>1989-08-25</td>\n",
              "      <td>Voyager 2</td>\n",
              "    </tr>\n",
              "  </tbody>\n",
              "</table>\n",
              "</div>"
            ],
            "text/plain": [
              "    Planet  Mass  Diameter  ... MagneticField FirstVisited FirstMission\n",
              "5  JUPITER  1898   142.984  ...           Yes   1973-12-04   Pioneer 10\n",
              "6   SATURN   568   120.536  ...           Yes   1979-09-01   Pioneer 11\n",
              "7   URANUS  86,8    51.118  ...           Yes   1986-01-24    Voyager 2\n",
              "8  NEPTUNE   102    49.528  ...           Yes   1989-08-25    Voyager 2\n",
              "\n",
              "[4 rows x 14 columns]"
            ]
          },
          "metadata": {
            "tags": []
          },
          "execution_count": 10
        }
      ]
    },
    {
      "cell_type": "code",
      "metadata": {
        "id": "liYd7IHyX0e4",
        "outputId": "7620847d-6380-4554-8a9e-3af3a2f57a1b",
        "colab": {
          "base_uri": "https://localhost:8080/",
          "height": 131
        }
      },
      "source": [
        "df.loc[ (df.Rings == 'No') & (df.MagneticField =='Yes') ]"
      ],
      "execution_count": 16,
      "outputs": [
        {
          "output_type": "execute_result",
          "data": {
            "text/html": [
              "<div>\n",
              "<style scoped>\n",
              "    .dataframe tbody tr th:only-of-type {\n",
              "        vertical-align: middle;\n",
              "    }\n",
              "\n",
              "    .dataframe tbody tr th {\n",
              "        vertical-align: top;\n",
              "    }\n",
              "\n",
              "    .dataframe thead th {\n",
              "        text-align: right;\n",
              "    }\n",
              "</style>\n",
              "<table border=\"1\" class=\"dataframe\">\n",
              "  <thead>\n",
              "    <tr style=\"text-align: right;\">\n",
              "      <th></th>\n",
              "      <th>Planet</th>\n",
              "      <th>Mass</th>\n",
              "      <th>Diameter</th>\n",
              "      <th>DayLength</th>\n",
              "      <th>SunDistance</th>\n",
              "      <th>OrbitPeriod</th>\n",
              "      <th>OrbitVelocity</th>\n",
              "      <th>MeanTemperature</th>\n",
              "      <th>SurfacePressure</th>\n",
              "      <th>Moons</th>\n",
              "      <th>Rings</th>\n",
              "      <th>MagneticField</th>\n",
              "      <th>FirstVisited</th>\n",
              "      <th>FirstMission</th>\n",
              "    </tr>\n",
              "  </thead>\n",
              "  <tbody>\n",
              "    <tr>\n",
              "      <th>0</th>\n",
              "      <td>MERCURY</td>\n",
              "      <td>0,33</td>\n",
              "      <td>4879.000</td>\n",
              "      <td>4222,6</td>\n",
              "      <td>57,9</td>\n",
              "      <td>88</td>\n",
              "      <td>47,4</td>\n",
              "      <td>167</td>\n",
              "      <td>0</td>\n",
              "      <td>0</td>\n",
              "      <td>No</td>\n",
              "      <td>Yes</td>\n",
              "      <td>1974-03-29</td>\n",
              "      <td>Mariner 10</td>\n",
              "    </tr>\n",
              "    <tr>\n",
              "      <th>2</th>\n",
              "      <td>EARTH</td>\n",
              "      <td>5,97</td>\n",
              "      <td>12.756</td>\n",
              "      <td>24</td>\n",
              "      <td>149,6</td>\n",
              "      <td>365,2</td>\n",
              "      <td>29,8</td>\n",
              "      <td>15</td>\n",
              "      <td>1</td>\n",
              "      <td>1</td>\n",
              "      <td>No</td>\n",
              "      <td>Yes</td>\n",
              "      <td>NaN</td>\n",
              "      <td>NaN</td>\n",
              "    </tr>\n",
              "  </tbody>\n",
              "</table>\n",
              "</div>"
            ],
            "text/plain": [
              "    Planet  Mass  Diameter  ... MagneticField FirstVisited FirstMission\n",
              "0  MERCURY  0,33  4879.000  ...           Yes   1974-03-29   Mariner 10\n",
              "2    EARTH  5,97    12.756  ...           Yes          NaN          NaN\n",
              "\n",
              "[2 rows x 14 columns]"
            ]
          },
          "metadata": {
            "tags": []
          },
          "execution_count": 16
        }
      ]
    },
    {
      "cell_type": "code",
      "metadata": {
        "id": "_ZRIlu1C46Cy",
        "colab": {
          "base_uri": "https://localhost:8080/"
        },
        "outputId": "1965e7fa-089c-4234-c1d1-8338fce0e95c"
      },
      "source": [
        "df.Planet"
      ],
      "execution_count": null,
      "outputs": [
        {
          "output_type": "execute_result",
          "data": {
            "text/plain": [
              "0    MERCURY\n",
              "1      VENUS\n",
              "2      EARTH\n",
              "3       MOON\n",
              "4       MARS\n",
              "5    JUPITER\n",
              "6     SATURN\n",
              "7     URANUS\n",
              "8    NEPTUNE\n",
              "9      PLUTO\n",
              "Name: Planet, dtype: object"
            ]
          },
          "metadata": {
            "tags": []
          },
          "execution_count": 7
        }
      ]
    },
    {
      "cell_type": "code",
      "metadata": {
        "id": "hKHtZZtj5p7H",
        "colab": {
          "base_uri": "https://localhost:8080/"
        },
        "outputId": "8583d599-afe5-4e37-d5f3-ddbfe10cc272"
      },
      "source": [
        "df['FirstVisited']"
      ],
      "execution_count": null,
      "outputs": [
        {
          "output_type": "execute_result",
          "data": {
            "text/plain": [
              "0    1974-03-29\n",
              "1    1962-08-27\n",
              "2           NaN\n",
              "3    1959-09-12\n",
              "4    1965-07-15\n",
              "5    1973-12-04\n",
              "6    1979-09-01\n",
              "7    1986-01-24\n",
              "8    1989-08-25\n",
              "9    2015-07-14\n",
              "Name: FirstVisited, dtype: object"
            ]
          },
          "metadata": {
            "tags": []
          },
          "execution_count": 16
        }
      ]
    },
    {
      "cell_type": "code",
      "metadata": {
        "id": "9ystHzco5RMa",
        "colab": {
          "base_uri": "https://localhost:8080/"
        },
        "outputId": "490203d7-e729-4e19-a9af-3f9391f97458"
      },
      "source": [
        "df.loc[1]"
      ],
      "execution_count": null,
      "outputs": [
        {
          "output_type": "execute_result",
          "data": {
            "text/plain": [
              "Planet                  VENUS\n",
              "Mass                     4,87\n",
              "Diameter               12.104\n",
              "DayLength                2802\n",
              "SunDistance             108,2\n",
              "OrbitPeriod             224,7\n",
              "OrbitVelocity              35\n",
              "MeanTemperature           464\n",
              "SurfacePressure            92\n",
              "Moons                       0\n",
              "Rings                      No\n",
              "MagneticField              No\n",
              "FirstVisited       1962-08-27\n",
              "FirstMission        Mariner 2\n",
              "Name: 1, dtype: object"
            ]
          },
          "metadata": {
            "tags": []
          },
          "execution_count": 10
        }
      ]
    },
    {
      "cell_type": "code",
      "metadata": {
        "id": "mOSLqYrP5OPR"
      },
      "source": [
        ""
      ],
      "execution_count": null,
      "outputs": []
    }
  ]
}